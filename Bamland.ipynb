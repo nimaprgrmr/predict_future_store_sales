{
 "cells": [
  {
   "cell_type": "code",
   "execution_count": 1,
   "id": "0618056b-1e53-4ec9-b706-3b09bb95de03",
   "metadata": {},
   "outputs": [],
   "source": [
    "import pandas as pd\n",
    "import numpy as np\n",
    "import matplotlib.pyplot as plt\n",
    "import seaborn as sns\n",
    "from sklearn.model_selection import train_test_split"
   ]
  },
  {
   "cell_type": "code",
   "execution_count": 2,
   "id": "d6e4a7b5-8edd-43b7-b673-7c5f63cfd540",
   "metadata": {},
   "outputs": [
    {
     "data": {
      "text/html": [
       "<div>\n",
       "<style scoped>\n",
       "    .dataframe tbody tr th:only-of-type {\n",
       "        vertical-align: middle;\n",
       "    }\n",
       "\n",
       "    .dataframe tbody tr th {\n",
       "        vertical-align: top;\n",
       "    }\n",
       "\n",
       "    .dataframe thead th {\n",
       "        text-align: right;\n",
       "    }\n",
       "</style>\n",
       "<table border=\"1\" class=\"dataframe\">\n",
       "  <thead>\n",
       "    <tr style=\"text-align: right;\">\n",
       "      <th></th>\n",
       "      <th>date</th>\n",
       "      <th>id_prd_to_plc</th>\n",
       "      <th>id_br</th>\n",
       "      <th>amount</th>\n",
       "      <th>price</th>\n",
       "      <th>total_price</th>\n",
       "      <th>year</th>\n",
       "      <th>month</th>\n",
       "      <th>day</th>\n",
       "    </tr>\n",
       "  </thead>\n",
       "  <tbody>\n",
       "    <tr>\n",
       "      <th>0</th>\n",
       "      <td>2018-11-15</td>\n",
       "      <td>1397</td>\n",
       "      <td>51338</td>\n",
       "      <td>1.0</td>\n",
       "      <td>3980000.0</td>\n",
       "      <td>3980000.0</td>\n",
       "      <td>2018</td>\n",
       "      <td>11</td>\n",
       "      <td>15</td>\n",
       "    </tr>\n",
       "    <tr>\n",
       "      <th>1</th>\n",
       "      <td>2018-11-15</td>\n",
       "      <td>1397</td>\n",
       "      <td>51338</td>\n",
       "      <td>1.0</td>\n",
       "      <td>1280000.0</td>\n",
       "      <td>1280000.0</td>\n",
       "      <td>2018</td>\n",
       "      <td>11</td>\n",
       "      <td>15</td>\n",
       "    </tr>\n",
       "    <tr>\n",
       "      <th>2</th>\n",
       "      <td>2018-11-15</td>\n",
       "      <td>1397</td>\n",
       "      <td>51338</td>\n",
       "      <td>1.0</td>\n",
       "      <td>2750000.0</td>\n",
       "      <td>2750000.0</td>\n",
       "      <td>2018</td>\n",
       "      <td>11</td>\n",
       "      <td>15</td>\n",
       "    </tr>\n",
       "    <tr>\n",
       "      <th>3</th>\n",
       "      <td>2018-11-15</td>\n",
       "      <td>1397</td>\n",
       "      <td>51338</td>\n",
       "      <td>1.0</td>\n",
       "      <td>1930000.0</td>\n",
       "      <td>1930000.0</td>\n",
       "      <td>2018</td>\n",
       "      <td>11</td>\n",
       "      <td>15</td>\n",
       "    </tr>\n",
       "    <tr>\n",
       "      <th>4</th>\n",
       "      <td>2018-11-15</td>\n",
       "      <td>1397</td>\n",
       "      <td>51338</td>\n",
       "      <td>1.0</td>\n",
       "      <td>4880000.0</td>\n",
       "      <td>4880000.0</td>\n",
       "      <td>2018</td>\n",
       "      <td>11</td>\n",
       "      <td>15</td>\n",
       "    </tr>\n",
       "    <tr>\n",
       "      <th>...</th>\n",
       "      <td>...</td>\n",
       "      <td>...</td>\n",
       "      <td>...</td>\n",
       "      <td>...</td>\n",
       "      <td>...</td>\n",
       "      <td>...</td>\n",
       "      <td>...</td>\n",
       "      <td>...</td>\n",
       "      <td>...</td>\n",
       "    </tr>\n",
       "    <tr>\n",
       "      <th>32488</th>\n",
       "      <td>2023-08-27</td>\n",
       "      <td>1402</td>\n",
       "      <td>51338</td>\n",
       "      <td>1.0</td>\n",
       "      <td>11980000.0</td>\n",
       "      <td>11980000.0</td>\n",
       "      <td>2023</td>\n",
       "      <td>8</td>\n",
       "      <td>27</td>\n",
       "    </tr>\n",
       "    <tr>\n",
       "      <th>32489</th>\n",
       "      <td>2023-08-27</td>\n",
       "      <td>1402</td>\n",
       "      <td>51338</td>\n",
       "      <td>1.0</td>\n",
       "      <td>11900000.0</td>\n",
       "      <td>11900000.0</td>\n",
       "      <td>2023</td>\n",
       "      <td>8</td>\n",
       "      <td>27</td>\n",
       "    </tr>\n",
       "    <tr>\n",
       "      <th>32490</th>\n",
       "      <td>2023-08-27</td>\n",
       "      <td>1402</td>\n",
       "      <td>51338</td>\n",
       "      <td>1.0</td>\n",
       "      <td>14800000.0</td>\n",
       "      <td>14800000.0</td>\n",
       "      <td>2023</td>\n",
       "      <td>8</td>\n",
       "      <td>27</td>\n",
       "    </tr>\n",
       "    <tr>\n",
       "      <th>32491</th>\n",
       "      <td>2023-08-27</td>\n",
       "      <td>1402</td>\n",
       "      <td>51338</td>\n",
       "      <td>1.0</td>\n",
       "      <td>13800000.0</td>\n",
       "      <td>13800000.0</td>\n",
       "      <td>2023</td>\n",
       "      <td>8</td>\n",
       "      <td>27</td>\n",
       "    </tr>\n",
       "    <tr>\n",
       "      <th>32492</th>\n",
       "      <td>2023-08-27</td>\n",
       "      <td>1402</td>\n",
       "      <td>51338</td>\n",
       "      <td>1.0</td>\n",
       "      <td>5600000.0</td>\n",
       "      <td>5600000.0</td>\n",
       "      <td>2023</td>\n",
       "      <td>8</td>\n",
       "      <td>27</td>\n",
       "    </tr>\n",
       "  </tbody>\n",
       "</table>\n",
       "<p>32493 rows × 9 columns</p>\n",
       "</div>"
      ],
      "text/plain": [
       "             date  id_prd_to_plc  id_br  amount       price  total_price  \\\n",
       "0      2018-11-15           1397  51338     1.0   3980000.0    3980000.0   \n",
       "1      2018-11-15           1397  51338     1.0   1280000.0    1280000.0   \n",
       "2      2018-11-15           1397  51338     1.0   2750000.0    2750000.0   \n",
       "3      2018-11-15           1397  51338     1.0   1930000.0    1930000.0   \n",
       "4      2018-11-15           1397  51338     1.0   4880000.0    4880000.0   \n",
       "...           ...            ...    ...     ...         ...          ...   \n",
       "32488  2023-08-27           1402  51338     1.0  11980000.0   11980000.0   \n",
       "32489  2023-08-27           1402  51338     1.0  11900000.0   11900000.0   \n",
       "32490  2023-08-27           1402  51338     1.0  14800000.0   14800000.0   \n",
       "32491  2023-08-27           1402  51338     1.0  13800000.0   13800000.0   \n",
       "32492  2023-08-27           1402  51338     1.0   5600000.0    5600000.0   \n",
       "\n",
       "       year  month  day  \n",
       "0      2018     11   15  \n",
       "1      2018     11   15  \n",
       "2      2018     11   15  \n",
       "3      2018     11   15  \n",
       "4      2018     11   15  \n",
       "...     ...    ...  ...  \n",
       "32488  2023      8   27  \n",
       "32489  2023      8   27  \n",
       "32490  2023      8   27  \n",
       "32491  2023      8   27  \n",
       "32492  2023      8   27  \n",
       "\n",
       "[32493 rows x 9 columns]"
      ]
     },
     "execution_count": 2,
     "metadata": {},
     "output_type": "execute_result"
    }
   ],
   "source": [
    "df = pd.read_csv('./data/data_sale_bamland.csv', header=None)\n",
    "columns = ['date', 'id_prd_to_plc', 'id_br','amount', 'price']\n",
    "df.columns = columns\n",
    "df.head()\n",
    "\n",
    "\n",
    "df['total_price'] = df['price'] * df['amount']\n",
    "\n",
    "\n",
    "def make_year(column):\n",
    "    year = column.split('-')[0]\n",
    "    return int(year)\n",
    "\n",
    "def make_month(column):\n",
    "    month = column.split('-')[1]\n",
    "    return int(month)\n",
    "\n",
    "\n",
    "def make_day(column):\n",
    "    day = column.split('-')[2][0:2]\n",
    "    return int(day)\n",
    "\n",
    "def make_date(column):\n",
    "    date = column.split(\" \")[0]\n",
    "    return date\n",
    "\n",
    "df['year'] = df['date'].apply(make_year)\n",
    "df['month'] = df['date'].apply(make_month)\n",
    "df['day'] = df['date'].apply(make_day)\n",
    "df['date'] = df['date'].apply(make_date)\n",
    "\n",
    "def convert_prd(column):\n",
    "  if column == 401:\n",
    "    return 1397\n",
    "  if column == 901:\n",
    "    return 1398\n",
    "  if column == 1001:\n",
    "    return 1399\n",
    "  if column == 1101:\n",
    "    return 1400\n",
    "  if column == 1201:\n",
    "    return 1401\n",
    "  elif column == 1301:\n",
    "    return 1402\n",
    "\n",
    "\n",
    "df['id_prd_to_plc'] = df['id_prd_to_plc'].apply(convert_prd)\n",
    "df.head(-5)"
   ]
  },
  {
   "cell_type": "code",
   "execution_count": 5,
   "id": "92714756-86ee-47fa-a548-36e2a31ed513",
   "metadata": {},
   "outputs": [
    {
     "data": {
      "text/html": [
       "<div>\n",
       "<style scoped>\n",
       "    .dataframe tbody tr th:only-of-type {\n",
       "        vertical-align: middle;\n",
       "    }\n",
       "\n",
       "    .dataframe tbody tr th {\n",
       "        vertical-align: top;\n",
       "    }\n",
       "\n",
       "    .dataframe thead th {\n",
       "        text-align: right;\n",
       "    }\n",
       "</style>\n",
       "<table border=\"1\" class=\"dataframe\">\n",
       "  <thead>\n",
       "    <tr style=\"text-align: right;\">\n",
       "      <th></th>\n",
       "      <th>date</th>\n",
       "      <th>id_prd_to_plc</th>\n",
       "      <th>id_br</th>\n",
       "      <th>amount</th>\n",
       "      <th>price</th>\n",
       "      <th>total_price</th>\n",
       "      <th>year</th>\n",
       "      <th>month</th>\n",
       "      <th>day</th>\n",
       "    </tr>\n",
       "  </thead>\n",
       "  <tbody>\n",
       "    <tr>\n",
       "      <th>0</th>\n",
       "      <td>2018-11-15-1397-1397</td>\n",
       "      <td>1397</td>\n",
       "      <td>51238</td>\n",
       "      <td>28.0</td>\n",
       "      <td>62910000.0</td>\n",
       "      <td>62910000.0</td>\n",
       "      <td>2018</td>\n",
       "      <td>11</td>\n",
       "      <td>15</td>\n",
       "    </tr>\n",
       "    <tr>\n",
       "      <th>1</th>\n",
       "      <td>2018-11-16-1397-1397</td>\n",
       "      <td>1397</td>\n",
       "      <td>51238</td>\n",
       "      <td>22.0</td>\n",
       "      <td>65050000.0</td>\n",
       "      <td>65050000.0</td>\n",
       "      <td>2018</td>\n",
       "      <td>11</td>\n",
       "      <td>16</td>\n",
       "    </tr>\n",
       "    <tr>\n",
       "      <th>2</th>\n",
       "      <td>2018-11-17-1397-1397</td>\n",
       "      <td>1397</td>\n",
       "      <td>51238</td>\n",
       "      <td>12.0</td>\n",
       "      <td>35150000.0</td>\n",
       "      <td>35150000.0</td>\n",
       "      <td>2018</td>\n",
       "      <td>11</td>\n",
       "      <td>17</td>\n",
       "    </tr>\n",
       "    <tr>\n",
       "      <th>3</th>\n",
       "      <td>2018-11-18-1397-1397</td>\n",
       "      <td>1397</td>\n",
       "      <td>51238</td>\n",
       "      <td>2.0</td>\n",
       "      <td>1560000.0</td>\n",
       "      <td>1560000.0</td>\n",
       "      <td>2018</td>\n",
       "      <td>11</td>\n",
       "      <td>18</td>\n",
       "    </tr>\n",
       "    <tr>\n",
       "      <th>4</th>\n",
       "      <td>2018-11-19-1397-1397</td>\n",
       "      <td>1397</td>\n",
       "      <td>51238</td>\n",
       "      <td>10.0</td>\n",
       "      <td>29900000.0</td>\n",
       "      <td>29900000.0</td>\n",
       "      <td>2018</td>\n",
       "      <td>11</td>\n",
       "      <td>19</td>\n",
       "    </tr>\n",
       "  </tbody>\n",
       "</table>\n",
       "</div>"
      ],
      "text/plain": [
       "                   date  id_prd_to_plc  id_br  amount       price  \\\n",
       "0  2018-11-15-1397-1397           1397  51238    28.0  62910000.0   \n",
       "1  2018-11-16-1397-1397           1397  51238    22.0  65050000.0   \n",
       "2  2018-11-17-1397-1397           1397  51238    12.0  35150000.0   \n",
       "3  2018-11-18-1397-1397           1397  51238     2.0   1560000.0   \n",
       "4  2018-11-19-1397-1397           1397  51238    10.0  29900000.0   \n",
       "\n",
       "   total_price  year  month  day  \n",
       "0   62910000.0  2018     11   15  \n",
       "1   65050000.0  2018     11   16  \n",
       "2   35150000.0  2018     11   17  \n",
       "3    1560000.0  2018     11   18  \n",
       "4   29900000.0  2018     11   19  "
      ]
     },
     "execution_count": 5,
     "metadata": {},
     "output_type": "execute_result"
    }
   ],
   "source": [
    "# Create date column for splitting\n",
    "df['date'] = df['date'] +'-'+ df['id_prd_to_plc'].astype(str)\n",
    "\n",
    "#Group by day\n",
    "new_data = df.groupby(df['date'], as_index=False).sum(numeric_only=True)\n",
    "new_data['id_br'] = 51238\n",
    "# new_data = new_data.drop('id_inv', axis=1)\n",
    "new_data.head()\n",
    "def make_prd(column):\n",
    "  id_prd = column.split('-')[3]\n",
    "  return int(id_prd)\n",
    "\n",
    "# Create again columns after make new df for each day sales\n",
    "new_data['id_br'] = new_data['id_br'].astype(int)\n",
    "new_data = new_data.drop(['year', 'month', 'day'], axis=1)\n",
    "new_data['year'] = new_data['date'].apply(make_year)\n",
    "new_data['month'] = new_data['date'].apply(make_month)\n",
    "new_data['day'] = new_data['date'].apply(make_day)\n",
    "new_data['id_prd_to_plc'] = new_data['date'].apply(make_prd)\n",
    "\n",
    "new_data.head()"
   ]
  },
  {
   "cell_type": "code",
   "execution_count": 6,
   "id": "855d1c62-c1cc-49d1-ad22-ed48a4fa1025",
   "metadata": {},
   "outputs": [
    {
     "data": {
      "text/plain": [
       "<Axes: >"
      ]
     },
     "execution_count": 6,
     "metadata": {},
     "output_type": "execute_result"
    },
    {
     "data": {
      "image/png": "[encoded data removed]",
      "text/plain": [
       "<Figure size 640x480 with 2 Axes>"
      ]
     },
     "metadata": {},
     "output_type": "display_data"
    }
   ],
   "source": [
    "sns.heatmap(new_data.drop(['date', 'id_br'], axis=1).corr(), cmap='YlGnBu')"
   ]
  },
  {
   "cell_type": "code",
   "execution_count": 114,
   "id": "b067dab2-b6de-43ff-aeeb-4171fbd07d64",
   "metadata": {},
   "outputs": [],
   "source": [
    "X = new_data[['id_prd_to_plc', 'year', 'month', 'day']]\n",
    "y = new_data['total_price']"
   ]
  },
  {
   "cell_type": "markdown",
   "id": "363a226e-0f35-45ec-92c0-e299422361b0",
   "metadata": {},
   "source": [
    "## Set Normalize"
   ]
  },
  {
   "cell_type": "code",
   "execution_count": 115,
   "id": "5902cad6-5eb5-46ad-8f37-e14fc1708459",
   "metadata": {},
   "outputs": [],
   "source": [
    "from sklearn.preprocessing import MinMaxScaler\n",
    "scaler = MinMaxScaler()\n",
    "X = scaler.fit_transform(X)"
   ]
  },
  {
   "cell_type": "code",
   "execution_count": 116,
   "id": "160fb40c-c7f2-47e5-b2e2-ab7b703d7362",
   "metadata": {},
   "outputs": [],
   "source": [
    "from sklearn.model_selection import train_test_split\n",
    "X_train, X_test, y_train, y_test = train_test_split(X, y, test_size=0.15, random_state=42)"
   ]
  },
  {
   "cell_type": "markdown",
   "id": "c5e03a2e-3f70-48cc-a437-eab827c43463",
   "metadata": {},
   "source": [
    "# Create model"
   ]
  },
  {
   "cell_type": "code",
   "execution_count": 117,
   "id": "d887b826-a9b5-4c67-863b-c2eff387c6b5",
   "metadata": {},
   "outputs": [],
   "source": [
    "from sklearn.ensemble import RandomForestRegressor"
   ]
  },
  {
   "cell_type": "code",
   "execution_count": 118,
   "id": "7b34760e-5719-424c-b1a0-3abd52e941f2",
   "metadata": {},
   "outputs": [
    {
     "data": {
      "text/html": [
       "<style>#sk-container-id-17 {color: black;}#sk-container-id-17 pre{padding: 0;}#sk-container-id-17 div.sk-toggleable {background-color: white;}#sk-container-id-17 label.sk-toggleable__label {cursor: pointer;display: block;width: 100%;margin-bottom: 0;padding: 0.3em;box-sizing: border-box;text-align: center;}#sk-container-id-17 label.sk-toggleable__label-arrow:before {content: \"▸\";float: left;margin-right: 0.25em;color: #696969;}#sk-container-id-17 label.sk-toggleable__label-arrow:hover:before {color: black;}#sk-container-id-17 div.sk-estimator:hover label.sk-toggleable__label-arrow:before {color: black;}#sk-container-id-17 div.sk-toggleable__content {max-height: 0;max-width: 0;overflow: hidden;text-align: left;background-color: #f0f8ff;}#sk-container-id-17 div.sk-toggleable__content pre {margin: 0.2em;color: black;border-radius: 0.25em;background-color: #f0f8ff;}#sk-container-id-17 input.sk-toggleable__control:checked~div.sk-toggleable__content {max-height: 200px;max-width: 100%;overflow: auto;}#sk-container-id-17 input.sk-toggleable__control:checked~label.sk-toggleable__label-arrow:before {content: \"▾\";}#sk-container-id-17 div.sk-estimator input.sk-toggleable__control:checked~label.sk-toggleable__label {background-color: #d4ebff;}#sk-container-id-17 div.sk-label input.sk-toggleable__control:checked~label.sk-toggleable__label {background-color: #d4ebff;}#sk-container-id-17 input.sk-hidden--visually {border: 0;clip: rect(1px 1px 1px 1px);clip: rect(1px, 1px, 1px, 1px);height: 1px;margin: -1px;overflow: hidden;padding: 0;position: absolute;width: 1px;}#sk-container-id-17 div.sk-estimator {font-family: monospace;background-color: #f0f8ff;border: 1px dotted black;border-radius: 0.25em;box-sizing: border-box;margin-bottom: 0.5em;}#sk-container-id-17 div.sk-estimator:hover {background-color: #d4ebff;}#sk-container-id-17 div.sk-parallel-item::after {content: \"\";width: 100%;border-bottom: 1px solid gray;flex-grow: 1;}#sk-container-id-17 div.sk-label:hover label.sk-toggleable__label {background-color: #d4ebff;}#sk-container-id-17 div.sk-serial::before {content: \"\";position: absolute;border-left: 1px solid gray;box-sizing: border-box;top: 0;bottom: 0;left: 50%;z-index: 0;}#sk-container-id-17 div.sk-serial {display: flex;flex-direction: column;align-items: center;background-color: white;padding-right: 0.2em;padding-left: 0.2em;position: relative;}#sk-container-id-17 div.sk-item {position: relative;z-index: 1;}#sk-container-id-17 div.sk-parallel {display: flex;align-items: stretch;justify-content: center;background-color: white;position: relative;}#sk-container-id-17 div.sk-item::before, #sk-container-id-17 div.sk-parallel-item::before {content: \"\";position: absolute;border-left: 1px solid gray;box-sizing: border-box;top: 0;bottom: 0;left: 50%;z-index: -1;}#sk-container-id-17 div.sk-parallel-item {display: flex;flex-direction: column;z-index: 1;position: relative;background-color: white;}#sk-container-id-17 div.sk-parallel-item:first-child::after {align-self: flex-end;width: 50%;}#sk-container-id-17 div.sk-parallel-item:last-child::after {align-self: flex-start;width: 50%;}#sk-container-id-17 div.sk-parallel-item:only-child::after {width: 0;}#sk-container-id-17 div.sk-dashed-wrapped {border: 1px dashed gray;margin: 0 0.4em 0.5em 0.4em;box-sizing: border-box;padding-bottom: 0.4em;background-color: white;}#sk-container-id-17 div.sk-label label {font-family: monospace;font-weight: bold;display: inline-block;line-height: 1.2em;}#sk-container-id-17 div.sk-label-container {text-align: center;}#sk-container-id-17 div.sk-container {/* jupyter's `normalize.less` sets `[hidden] { display: none; }` but bootstrap.min.css set `[hidden] { display: none !important; }` so we also need the `!important` here to be able to override the default hidden behavior on the sphinx rendered scikit-learn.org. See: https://github.com/scikit-learn/scikit-learn/issues/21755 */display: inline-block !important;position: relative;}#sk-container-id-17 div.sk-text-repr-fallback {display: none;}</style><div id=\"sk-container-id-17\" class=\"sk-top-container\"><div class=\"sk-text-repr-fallback\"><pre>RandomForestRegressor(criterion=&#x27;absolute_error&#x27;, n_estimators=2000)</pre><b>In a Jupyter environment, please rerun this cell to show the HTML representation or trust the notebook. <br />On GitHub, the HTML representation is unable to render, please try loading this page with nbviewer.org.</b></div><div class=\"sk-container\" hidden><div class=\"sk-item\"><div class=\"sk-estimator sk-toggleable\"><input class=\"sk-toggleable__control sk-hidden--visually\" id=\"sk-estimator-id-17\" type=\"checkbox\" checked><label for=\"sk-estimator-id-17\" class=\"sk-toggleable__label sk-toggleable__label-arrow\">RandomForestRegressor</label><div class=\"sk-toggleable__content\"><pre>RandomForestRegressor(criterion=&#x27;absolute_error&#x27;, n_estimators=2000)</pre></div></div></div></div></div>"
      ],
      "text/plain": [
       "RandomForestRegressor(criterion='absolute_error', n_estimators=2000)"
      ]
     },
     "execution_count": 118,
     "metadata": {},
     "output_type": "execute_result"
    }
   ],
   "source": [
    "np.random.seed(42)\n",
    "modelRFR = RandomForestRegressor(2000, criterion='absolute_error')\n",
    "modelRFR.fit(X_train, y_train)"
   ]
  },
  {
   "cell_type": "markdown",
   "id": "02ee7c84-b265-4e2a-a27e-3f38a0ead33d",
   "metadata": {},
   "source": [
    "## Evaluation Model"
   ]
  },
  {
   "cell_type": "code",
   "execution_count": 119,
   "id": "ab972920-94de-4ded-bb59-372e387c1cea",
   "metadata": {},
   "outputs": [],
   "source": [
    "preds_rfr = modelRFR.predict(X_test)"
   ]
  },
  {
   "cell_type": "code",
   "execution_count": 120,
   "id": "ac3fe32d-d4b7-4eca-9dfa-4429ae40d5b8",
   "metadata": {},
   "outputs": [
    {
     "data": {
      "text/plain": [
       "78407127.3740824"
      ]
     },
     "execution_count": 120,
     "metadata": {},
     "output_type": "execute_result"
    }
   ],
   "source": [
    "from sklearn.metrics import mean_squared_error\n",
    "error = mean_squared_error(preds_rfr, y_test)\n",
    "np.sqrt(error)"
   ]
  },
  {
   "cell_type": "code",
   "execution_count": null,
   "id": "0bc6ca3e-cd10-4614-b1a1-7511dc00a201",
   "metadata": {},
   "outputs": [],
   "source": [
    "78407127.3740824"
   ]
  },
  {
   "cell_type": "code",
   "execution_count": 121,
   "id": "1cb728fc-6de2-4ab9-a335-44040b37ef4c",
   "metadata": {},
   "outputs": [
    {
     "data": {
      "text/plain": [
       "19509536566.25"
      ]
     },
     "execution_count": 121,
     "metadata": {},
     "output_type": "execute_result"
    }
   ],
   "source": [
    "preds_rfr.sum()"
   ]
  },
  {
   "cell_type": "code",
   "execution_count": 122,
   "id": "dc0831a2-c255-40df-885c-adb06dd7575d",
   "metadata": {},
   "outputs": [
    {
     "data": {
      "text/plain": [
       "21445533000.0"
      ]
     },
     "execution_count": 122,
     "metadata": {},
     "output_type": "execute_result"
    }
   ],
   "source": [
    "y_test.sum()"
   ]
  },
  {
   "cell_type": "code",
   "execution_count": 123,
   "id": "0ff683b0-89ed-432d-8004-e8ea1034a464",
   "metadata": {},
   "outputs": [
    {
     "data": {
      "text/plain": [
       "1935996433.75"
      ]
     },
     "execution_count": 123,
     "metadata": {},
     "output_type": "execute_result"
    }
   ],
   "source": [
    "y_test.sum() - preds_rfr.sum()"
   ]
  },
  {
   "cell_type": "code",
   "execution_count": 124,
   "id": "a85d49c0-e5cb-4342-8ea3-6d5670867b6f",
   "metadata": {},
   "outputs": [
    {
     "data": {
      "text/plain": [
       "<matplotlib.legend.Legend at 0x2066625f400>"
      ]
     },
     "execution_count": 124,
     "metadata": {},
     "output_type": "execute_result"
    },
    {
     "data": {
      "image/png": "[encoded data removed]",
      "text/plain": [
       "<Figure size 1000x700 with 1 Axes>"
      ]
     },
     "metadata": {},
     "output_type": "display_data"
    }
   ],
   "source": [
    "plt.figure(figsize=(10, 7))\n",
    "sns.lineplot(x=range(len(preds_rfr)), y=preds_rfr, label='predictions')\n",
    "sns.lineplot(x=range(len(preds_rfr)), y=y_test, label='actual data')\n",
    "plt.legend()"
   ]
  },
  {
   "cell_type": "markdown",
   "id": "0999a99b-cb8d-40d4-99f5-ce591e70792b",
   "metadata": {},
   "source": [
    "### Create data for test"
   ]
  },
  {
   "cell_type": "code",
   "execution_count": 125,
   "id": "c5d3f3fa-ec58-4210-b426-d06f83c719d9",
   "metadata": {},
   "outputs": [
    {
     "data": {
      "text/html": [
       "<div>\n",
       "<style scoped>\n",
       "    .dataframe tbody tr th:only-of-type {\n",
       "        vertical-align: middle;\n",
       "    }\n",
       "\n",
       "    .dataframe tbody tr th {\n",
       "        vertical-align: top;\n",
       "    }\n",
       "\n",
       "    .dataframe thead th {\n",
       "        text-align: right;\n",
       "    }\n",
       "</style>\n",
       "<table border=\"1\" class=\"dataframe\">\n",
       "  <thead>\n",
       "    <tr style=\"text-align: right;\">\n",
       "      <th></th>\n",
       "      <th>date</th>\n",
       "      <th>id_prd_to_plc</th>\n",
       "      <th>id_br</th>\n",
       "      <th>amount</th>\n",
       "      <th>price</th>\n",
       "      <th>total_price</th>\n",
       "      <th>year</th>\n",
       "      <th>month</th>\n",
       "      <th>day</th>\n",
       "    </tr>\n",
       "  </thead>\n",
       "  <tbody>\n",
       "    <tr>\n",
       "      <th>0</th>\n",
       "      <td>2018-11-15-1397-1397</td>\n",
       "      <td>1397</td>\n",
       "      <td>51238</td>\n",
       "      <td>28.0</td>\n",
       "      <td>62910000.0</td>\n",
       "      <td>62910000.0</td>\n",
       "      <td>2018</td>\n",
       "      <td>11</td>\n",
       "      <td>15</td>\n",
       "    </tr>\n",
       "    <tr>\n",
       "      <th>1</th>\n",
       "      <td>2018-11-16-1397-1397</td>\n",
       "      <td>1397</td>\n",
       "      <td>51238</td>\n",
       "      <td>22.0</td>\n",
       "      <td>65050000.0</td>\n",
       "      <td>65050000.0</td>\n",
       "      <td>2018</td>\n",
       "      <td>11</td>\n",
       "      <td>16</td>\n",
       "    </tr>\n",
       "    <tr>\n",
       "      <th>2</th>\n",
       "      <td>2018-11-17-1397-1397</td>\n",
       "      <td>1397</td>\n",
       "      <td>51238</td>\n",
       "      <td>12.0</td>\n",
       "      <td>35150000.0</td>\n",
       "      <td>35150000.0</td>\n",
       "      <td>2018</td>\n",
       "      <td>11</td>\n",
       "      <td>17</td>\n",
       "    </tr>\n",
       "    <tr>\n",
       "      <th>3</th>\n",
       "      <td>2018-11-18-1397-1397</td>\n",
       "      <td>1397</td>\n",
       "      <td>51238</td>\n",
       "      <td>2.0</td>\n",
       "      <td>1560000.0</td>\n",
       "      <td>1560000.0</td>\n",
       "      <td>2018</td>\n",
       "      <td>11</td>\n",
       "      <td>18</td>\n",
       "    </tr>\n",
       "    <tr>\n",
       "      <th>4</th>\n",
       "      <td>2018-11-19-1397-1397</td>\n",
       "      <td>1397</td>\n",
       "      <td>51238</td>\n",
       "      <td>10.0</td>\n",
       "      <td>29900000.0</td>\n",
       "      <td>29900000.0</td>\n",
       "      <td>2018</td>\n",
       "      <td>11</td>\n",
       "      <td>19</td>\n",
       "    </tr>\n",
       "    <tr>\n",
       "      <th>...</th>\n",
       "      <td>...</td>\n",
       "      <td>...</td>\n",
       "      <td>...</td>\n",
       "      <td>...</td>\n",
       "      <td>...</td>\n",
       "      <td>...</td>\n",
       "      <td>...</td>\n",
       "      <td>...</td>\n",
       "      <td>...</td>\n",
       "    </tr>\n",
       "    <tr>\n",
       "      <th>1569</th>\n",
       "      <td>2023-08-18-1402-1402</td>\n",
       "      <td>1402</td>\n",
       "      <td>51238</td>\n",
       "      <td>27.0</td>\n",
       "      <td>272762000.0</td>\n",
       "      <td>272762000.0</td>\n",
       "      <td>2023</td>\n",
       "      <td>8</td>\n",
       "      <td>18</td>\n",
       "    </tr>\n",
       "    <tr>\n",
       "      <th>1570</th>\n",
       "      <td>2023-08-19-1402-1402</td>\n",
       "      <td>1402</td>\n",
       "      <td>51238</td>\n",
       "      <td>6.0</td>\n",
       "      <td>52970000.0</td>\n",
       "      <td>52970000.0</td>\n",
       "      <td>2023</td>\n",
       "      <td>8</td>\n",
       "      <td>19</td>\n",
       "    </tr>\n",
       "    <tr>\n",
       "      <th>1571</th>\n",
       "      <td>2023-08-20-1402-1402</td>\n",
       "      <td>1402</td>\n",
       "      <td>51238</td>\n",
       "      <td>17.0</td>\n",
       "      <td>151114000.0</td>\n",
       "      <td>151114000.0</td>\n",
       "      <td>2023</td>\n",
       "      <td>8</td>\n",
       "      <td>20</td>\n",
       "    </tr>\n",
       "    <tr>\n",
       "      <th>1572</th>\n",
       "      <td>2023-08-21-1402-1402</td>\n",
       "      <td>1402</td>\n",
       "      <td>51238</td>\n",
       "      <td>6.0</td>\n",
       "      <td>55730000.0</td>\n",
       "      <td>55730000.0</td>\n",
       "      <td>2023</td>\n",
       "      <td>8</td>\n",
       "      <td>21</td>\n",
       "    </tr>\n",
       "    <tr>\n",
       "      <th>1573</th>\n",
       "      <td>2023-08-22-1402-1402</td>\n",
       "      <td>1402</td>\n",
       "      <td>51238</td>\n",
       "      <td>17.0</td>\n",
       "      <td>178670000.0</td>\n",
       "      <td>178670000.0</td>\n",
       "      <td>2023</td>\n",
       "      <td>8</td>\n",
       "      <td>22</td>\n",
       "    </tr>\n",
       "  </tbody>\n",
       "</table>\n",
       "<p>1574 rows × 9 columns</p>\n",
       "</div>"
      ],
      "text/plain": [
       "                      date  id_prd_to_plc  id_br  amount        price  \\\n",
       "0     2018-11-15-1397-1397           1397  51238    28.0   62910000.0   \n",
       "1     2018-11-16-1397-1397           1397  51238    22.0   65050000.0   \n",
       "2     2018-11-17-1397-1397           1397  51238    12.0   35150000.0   \n",
       "3     2018-11-18-1397-1397           1397  51238     2.0    1560000.0   \n",
       "4     2018-11-19-1397-1397           1397  51238    10.0   29900000.0   \n",
       "...                    ...            ...    ...     ...          ...   \n",
       "1569  2023-08-18-1402-1402           1402  51238    27.0  272762000.0   \n",
       "1570  2023-08-19-1402-1402           1402  51238     6.0   52970000.0   \n",
       "1571  2023-08-20-1402-1402           1402  51238    17.0  151114000.0   \n",
       "1572  2023-08-21-1402-1402           1402  51238     6.0   55730000.0   \n",
       "1573  2023-08-22-1402-1402           1402  51238    17.0  178670000.0   \n",
       "\n",
       "      total_price  year  month  day  \n",
       "0      62910000.0  2018     11   15  \n",
       "1      65050000.0  2018     11   16  \n",
       "2      35150000.0  2018     11   17  \n",
       "3       1560000.0  2018     11   18  \n",
       "4      29900000.0  2018     11   19  \n",
       "...           ...   ...    ...  ...  \n",
       "1569  272762000.0  2023      8   18  \n",
       "1570   52970000.0  2023      8   19  \n",
       "1571  151114000.0  2023      8   20  \n",
       "1572   55730000.0  2023      8   21  \n",
       "1573  178670000.0  2023      8   22  \n",
       "\n",
       "[1574 rows x 9 columns]"
      ]
     },
     "execution_count": 125,
     "metadata": {},
     "output_type": "execute_result"
    }
   ],
   "source": [
    "new_data.head(-5)"
   ]
  },
  {
   "cell_type": "code",
   "execution_count": 136,
   "id": "96ccff08-00b8-4ad6-997b-c5ca3637040e",
   "metadata": {},
   "outputs": [
    {
     "data": {
      "text/html": [
       "<div>\n",
       "<style scoped>\n",
       "    .dataframe tbody tr th:only-of-type {\n",
       "        vertical-align: middle;\n",
       "    }\n",
       "\n",
       "    .dataframe tbody tr th {\n",
       "        vertical-align: top;\n",
       "    }\n",
       "\n",
       "    .dataframe thead th {\n",
       "        text-align: right;\n",
       "    }\n",
       "</style>\n",
       "<table border=\"1\" class=\"dataframe\">\n",
       "  <thead>\n",
       "    <tr style=\"text-align: right;\">\n",
       "      <th></th>\n",
       "      <th>date</th>\n",
       "      <th>id_prd_to_plc</th>\n",
       "      <th>id_br</th>\n",
       "      <th>amount</th>\n",
       "      <th>price</th>\n",
       "      <th>total_price</th>\n",
       "      <th>year</th>\n",
       "      <th>month</th>\n",
       "      <th>day</th>\n",
       "    </tr>\n",
       "  </thead>\n",
       "  <tbody>\n",
       "    <tr>\n",
       "      <th>968</th>\n",
       "      <td>2021-12-01-1400-1400</td>\n",
       "      <td>1400</td>\n",
       "      <td>51238</td>\n",
       "      <td>10.0</td>\n",
       "      <td>69900000.0</td>\n",
       "      <td>69900000.0</td>\n",
       "      <td>2021</td>\n",
       "      <td>12</td>\n",
       "      <td>1</td>\n",
       "    </tr>\n",
       "    <tr>\n",
       "      <th>969</th>\n",
       "      <td>2021-12-02-1400-1400</td>\n",
       "      <td>1400</td>\n",
       "      <td>51238</td>\n",
       "      <td>9.0</td>\n",
       "      <td>89650000.0</td>\n",
       "      <td>89650000.0</td>\n",
       "      <td>2021</td>\n",
       "      <td>12</td>\n",
       "      <td>2</td>\n",
       "    </tr>\n",
       "    <tr>\n",
       "      <th>970</th>\n",
       "      <td>2021-12-03-1400-1400</td>\n",
       "      <td>1400</td>\n",
       "      <td>51238</td>\n",
       "      <td>10.0</td>\n",
       "      <td>63350000.0</td>\n",
       "      <td>63350000.0</td>\n",
       "      <td>2021</td>\n",
       "      <td>12</td>\n",
       "      <td>3</td>\n",
       "    </tr>\n",
       "    <tr>\n",
       "      <th>971</th>\n",
       "      <td>2021-12-04-1400-1400</td>\n",
       "      <td>1400</td>\n",
       "      <td>51238</td>\n",
       "      <td>1.0</td>\n",
       "      <td>3950000.0</td>\n",
       "      <td>3950000.0</td>\n",
       "      <td>2021</td>\n",
       "      <td>12</td>\n",
       "      <td>4</td>\n",
       "    </tr>\n",
       "    <tr>\n",
       "      <th>972</th>\n",
       "      <td>2021-12-05-1400-1400</td>\n",
       "      <td>1400</td>\n",
       "      <td>51238</td>\n",
       "      <td>7.0</td>\n",
       "      <td>46850000.0</td>\n",
       "      <td>46850000.0</td>\n",
       "      <td>2021</td>\n",
       "      <td>12</td>\n",
       "      <td>5</td>\n",
       "    </tr>\n",
       "  </tbody>\n",
       "</table>\n",
       "</div>"
      ],
      "text/plain": [
       "                     date  id_prd_to_plc  id_br  amount       price  \\\n",
       "968  2021-12-01-1400-1400           1400  51238    10.0  69900000.0   \n",
       "969  2021-12-02-1400-1400           1400  51238     9.0  89650000.0   \n",
       "970  2021-12-03-1400-1400           1400  51238    10.0  63350000.0   \n",
       "971  2021-12-04-1400-1400           1400  51238     1.0   3950000.0   \n",
       "972  2021-12-05-1400-1400           1400  51238     7.0  46850000.0   \n",
       "\n",
       "     total_price  year  month  day  \n",
       "968   69900000.0  2021     12    1  \n",
       "969   89650000.0  2021     12    2  \n",
       "970   63350000.0  2021     12    3  \n",
       "971    3950000.0  2021     12    4  \n",
       "972   46850000.0  2021     12    5  "
      ]
     },
     "execution_count": 136,
     "metadata": {},
     "output_type": "execute_result"
    }
   ],
   "source": [
    "month = new_data.iloc[968: 998]\n",
    "month.head()"
   ]
  },
  {
   "cell_type": "code",
   "execution_count": 137,
   "id": "35683489-b152-4b20-8f8d-40390cacdfbc",
   "metadata": {},
   "outputs": [
    {
     "name": "stdout",
     "output_type": "stream",
     "text": [
      "RMSE: 72644961.54698232\n"
     ]
    },
    {
     "data": {
      "text/plain": [
       "<matplotlib.legend.Legend at 0x2068120af70>"
      ]
     },
     "execution_count": 137,
     "metadata": {},
     "output_type": "execute_result"
    },
    {
     "data": {
      "image/png": "[encoded data removed]",
      "text/plain": [
       "<Figure size 640x480 with 1 Axes>"
      ]
     },
     "metadata": {},
     "output_type": "display_data"
    }
   ],
   "source": [
    "x_month = month[['id_prd_to_plc', 'year', 'month', 'day']]\n",
    "x_month = scaler.transform(x_month)\n",
    "sale_predict = modelRFR.predict(x_month)\n",
    "actual_sale = month['total_price']\n",
    "lenght = len(sale_predict)\n",
    "sns.lineplot(x=range(lenght), y=sale_predict, label='predictions')\n",
    "sns.lineplot(x=range(lenght), y=actual_sale, label='actual sale')\n",
    "error = np.sqrt(mean_squared_error(actual_sale, sale_predict))\n",
    "print(f\"RMSE: {error}\")\n",
    "plt.legend()"
   ]
  },
  {
   "cell_type": "code",
   "execution_count": 138,
   "id": "4dba76b9-50e1-4d01-983d-d41b5cd77ea6",
   "metadata": {},
   "outputs": [
    {
     "name": "stdout",
     "output_type": "stream",
     "text": [
      "Actual sale:    3995950000.0\n",
      "Predicted sale: 3871664797.5\n",
      "Act-pred:      124285202\n"
     ]
    }
   ],
   "source": [
    "sum_actual_sale = month['total_price'].sum()\n",
    "sum_predict_sale = sale_predict.sum()\n",
    "print(f\"Actual sale:    {sum_actual_sale}\")\n",
    "print(f\"Predicted sale: {sum_predict_sale}\")\n",
    "print(f\"Act-pred:      {sum_actual_sale-sum_predict_sale:.0f}\")"
   ]
  },
  {
   "cell_type": "markdown",
   "id": "2560b5e1-a72a-4427-b5b8-3fc5c5b1b329",
   "metadata": {},
   "source": [
    "## Save Model"
   ]
  },
  {
   "cell_type": "code",
   "execution_count": 133,
   "id": "aef35e61-4e8e-45a0-b05c-f98f3bacbdbf",
   "metadata": {},
   "outputs": [],
   "source": [
    "import pickle \n",
    "filename_scaler = \"bamland_scaler.pickle\"\n",
    "filename_model = \"bamland_predictor.pickle\"\n",
    "\n",
    "pickle.dump(scaler, open(filename_scaler, \"wb\"))\n",
    "pickle.dump(modelRFR, open(filename_model, \"wb\"))"
   ]
  },
  {
   "cell_type": "markdown",
   "id": "27faf99b-5b69-406b-af2b-4ed4c23a9b3d",
   "metadata": {},
   "source": [
    "## Convert miladi be shamsi"
   ]
  },
  {
   "cell_type": "code",
   "execution_count": 185,
   "id": "1965127c-be03-4d4c-b098-23fa4688836a",
   "metadata": {},
   "outputs": [],
   "source": [
    "def jalali_to_gregorian(jy, jm, jd):\n",
    " jy += 1595\n",
    " days = -355668 + (365 * jy) + ((jy // 33) * 8) + (((jy % 33) + 3) // 4) + jd\n",
    " if (jm < 7):\n",
    "  days += (jm - 1) * 31\n",
    " else:\n",
    "  days += ((jm - 7) * 30) + 186\n",
    " gy = 400 * (days // 146097)\n",
    " days %= 146097\n",
    " if (days > 36524):\n",
    "  days -= 1\n",
    "  gy += 100 * (days // 36524)\n",
    "  days %= 36524\n",
    "  if (days >= 365):\n",
    "   days += 1\n",
    " gy += 4 * (days // 1461)\n",
    " days %= 1461\n",
    " if (days > 365):\n",
    "  gy += ((days - 1) // 365)\n",
    "  days = (days - 1) % 365\n",
    " gd = days + 1\n",
    " if ((gy % 4 == 0 and gy % 100 != 0) or (gy % 400 == 0)):\n",
    "  kab = 29\n",
    " else:\n",
    "  kab = 28\n",
    " sal_a = [0, 31, kab, 31, 30, 31, 30, 31, 31, 30, 31, 30, 31]\n",
    " gm = 0\n",
    " while (gm < 13 and gd > sal_a[gm]):\n",
    "  gd -= sal_a[gm]\n",
    "  gm += 1\n",
    " return [gy, gm, gd]"
   ]
  },
  {
   "cell_type": "markdown",
   "id": "89397463-5cd9-428e-8767-fb4022aeb09a",
   "metadata": {},
   "source": [
    "## Create dataframe from dates between 2 dates"
   ]
  },
  {
   "cell_type": "code",
   "execution_count": 268,
   "id": "184d050f-17ba-468f-83aa-71ef42593430",
   "metadata": {},
   "outputs": [],
   "source": [
    "import pandas as pd\n",
    "from datetime import date, timedelta\n",
    "\n",
    "def create_date_dataframe(start_date, end_date) -> pd.DataFrame :\n",
    "    \n",
    "    '''\n",
    "        Takes 2 date and return a dataframe from date 1 to date 2\n",
    "        `Parameters`:\n",
    "        `date1` : Start period time date that you want in shamsi hijri format\n",
    "        `date2` : End period time date that you want in shamsi hijri format\n",
    "    \n",
    "        `return`: The dataframe contains all days from start_date to end_date\n",
    "    '''\n",
    "    \n",
    "    # Convert the input date lists to datetime objects\n",
    "    start_date = date(*start_date)\n",
    "    end_date = date(*end_date)\n",
    "\n",
    "    # Initialize an empty list to store date tuples\n",
    "    date_list = []\n",
    "\n",
    "    # Create a date range using timedelta and append each date as a tuple\n",
    "    current_date = start_date\n",
    "    while current_date <= end_date:\n",
    "        id_prd = {'2018':1397, '2019':1398, '2020':1399, '2021':1400, '2022':1401, '2023':1402, '2024':1403, '2025':1404, '2026':1405}\n",
    "        id_prd_to_plc = id_prd[str(current_date.year)]\n",
    "        date_list.append((id_prd_to_plc, current_date.year, current_date.month, current_date.day))\n",
    "        current_date += timedelta(days=1)\n",
    "\n",
    "    # Convert the list of date tuples to a DataFrame\n",
    "    date_df = pd.DataFrame(date_list, columns=[\"id_prd_to_plc\", \"year\", \"month\", \"day\"])\n",
    "\n",
    "    return date_df"
   ]
  },
  {
   "cell_type": "code",
   "execution_count": 269,
   "id": "aed14e27-9fff-4076-9312-d8a5613b7bb8",
   "metadata": {},
   "outputs": [
    {
     "data": {
      "text/html": [
       "<div>\n",
       "<style scoped>\n",
       "    .dataframe tbody tr th:only-of-type {\n",
       "        vertical-align: middle;\n",
       "    }\n",
       "\n",
       "    .dataframe tbody tr th {\n",
       "        vertical-align: top;\n",
       "    }\n",
       "\n",
       "    .dataframe thead th {\n",
       "        text-align: right;\n",
       "    }\n",
       "</style>\n",
       "<table border=\"1\" class=\"dataframe\">\n",
       "  <thead>\n",
       "    <tr style=\"text-align: right;\">\n",
       "      <th></th>\n",
       "      <th>id_prd_to_plc</th>\n",
       "      <th>year</th>\n",
       "      <th>month</th>\n",
       "      <th>day</th>\n",
       "    </tr>\n",
       "  </thead>\n",
       "  <tbody>\n",
       "    <tr>\n",
       "      <th>0</th>\n",
       "      <td>1402</td>\n",
       "      <td>2023</td>\n",
       "      <td>8</td>\n",
       "      <td>1</td>\n",
       "    </tr>\n",
       "    <tr>\n",
       "      <th>1</th>\n",
       "      <td>1402</td>\n",
       "      <td>2023</td>\n",
       "      <td>8</td>\n",
       "      <td>2</td>\n",
       "    </tr>\n",
       "    <tr>\n",
       "      <th>2</th>\n",
       "      <td>1402</td>\n",
       "      <td>2023</td>\n",
       "      <td>8</td>\n",
       "      <td>3</td>\n",
       "    </tr>\n",
       "    <tr>\n",
       "      <th>3</th>\n",
       "      <td>1402</td>\n",
       "      <td>2023</td>\n",
       "      <td>8</td>\n",
       "      <td>4</td>\n",
       "    </tr>\n",
       "    <tr>\n",
       "      <th>4</th>\n",
       "      <td>1402</td>\n",
       "      <td>2023</td>\n",
       "      <td>8</td>\n",
       "      <td>5</td>\n",
       "    </tr>\n",
       "  </tbody>\n",
       "</table>\n",
       "</div>"
      ],
      "text/plain": [
       "   id_prd_to_plc  year  month  day\n",
       "0           1402  2023      8    1\n",
       "1           1402  2023      8    2\n",
       "2           1402  2023      8    3\n",
       "3           1402  2023      8    4\n",
       "4           1402  2023      8    5"
      ]
     },
     "execution_count": 269,
     "metadata": {},
     "output_type": "execute_result"
    }
   ],
   "source": [
    "# Example usage:\n",
    "start_date = [2023, 8, 1]\n",
    "end_date = [2023, 9, 5]\n",
    "\n",
    "date_dataframe = create_date_dataframe(start_date, end_date)\n",
    "date_dataframe.head()"
   ]
  },
  {
   "cell_type": "code",
   "execution_count": 272,
   "id": "fe73e34a-fcf3-45f0-8199-8bfe644b863b",
   "metadata": {},
   "outputs": [],
   "source": [
    "def make_period_time(date1:list, date2:list=None):\n",
    "    \"\"\"\n",
    "        Converts hijri shamsi date to gregorian and return dataframe using `create_date_dataframe`\n",
    "    \"\"\"\n",
    "    date1_grg = jalali_to_gregorian(date1[0], date1[1], date1[2])\n",
    "    date2_grg = jalali_to_gregorian(date2[0], date2[1], date2[2])\n",
    "    \n",
    "    df = create_date_dataframe(date1_grg, date2_grg)\n",
    "    return df"
   ]
  },
  {
   "cell_type": "code",
   "execution_count": 273,
   "id": "cbb14f23-1efb-4fd1-b16c-20a2e83e8de7",
   "metadata": {},
   "outputs": [
    {
     "data": {
      "text/html": [
       "<div>\n",
       "<style scoped>\n",
       "    .dataframe tbody tr th:only-of-type {\n",
       "        vertical-align: middle;\n",
       "    }\n",
       "\n",
       "    .dataframe tbody tr th {\n",
       "        vertical-align: top;\n",
       "    }\n",
       "\n",
       "    .dataframe thead th {\n",
       "        text-align: right;\n",
       "    }\n",
       "</style>\n",
       "<table border=\"1\" class=\"dataframe\">\n",
       "  <thead>\n",
       "    <tr style=\"text-align: right;\">\n",
       "      <th></th>\n",
       "      <th>id_prd_to_plc</th>\n",
       "      <th>year</th>\n",
       "      <th>month</th>\n",
       "      <th>day</th>\n",
       "    </tr>\n",
       "  </thead>\n",
       "  <tbody>\n",
       "    <tr>\n",
       "      <th>0</th>\n",
       "      <td>1402</td>\n",
       "      <td>2023</td>\n",
       "      <td>9</td>\n",
       "      <td>23</td>\n",
       "    </tr>\n",
       "    <tr>\n",
       "      <th>1</th>\n",
       "      <td>1402</td>\n",
       "      <td>2023</td>\n",
       "      <td>9</td>\n",
       "      <td>24</td>\n",
       "    </tr>\n",
       "    <tr>\n",
       "      <th>2</th>\n",
       "      <td>1402</td>\n",
       "      <td>2023</td>\n",
       "      <td>9</td>\n",
       "      <td>25</td>\n",
       "    </tr>\n",
       "    <tr>\n",
       "      <th>3</th>\n",
       "      <td>1402</td>\n",
       "      <td>2023</td>\n",
       "      <td>9</td>\n",
       "      <td>26</td>\n",
       "    </tr>\n",
       "    <tr>\n",
       "      <th>4</th>\n",
       "      <td>1402</td>\n",
       "      <td>2023</td>\n",
       "      <td>9</td>\n",
       "      <td>27</td>\n",
       "    </tr>\n",
       "  </tbody>\n",
       "</table>\n",
       "</div>"
      ],
      "text/plain": [
       "   id_prd_to_plc  year  month  day\n",
       "0           1402  2023      9   23\n",
       "1           1402  2023      9   24\n",
       "2           1402  2023      9   25\n",
       "3           1402  2023      9   26\n",
       "4           1402  2023      9   27"
      ]
     },
     "execution_count": 273,
     "metadata": {},
     "output_type": "execute_result"
    }
   ],
   "source": [
    "# Example \n",
    "# Example usage:\n",
    "start_date = [1402, 7, 1]\n",
    "end_date = [1402, 7, 31]\n",
    "\n",
    "df = make_period_time(start_date, end_date)\n",
    "df.head()"
   ]
  },
  {
   "cell_type": "markdown",
   "id": "4a80e70e-fd5f-43fe-9a97-4cc3a19e89de",
   "metadata": {},
   "source": [
    "## Pass the StartTime and EndTime and let the AI take predcitions"
   ]
  },
  {
   "cell_type": "code",
   "execution_count": 286,
   "id": "001ee14d-0a84-45c4-9012-08a2d625ae0e",
   "metadata": {},
   "outputs": [],
   "source": [
    "def predict_period_time(start_date, end_date):\n",
    "    period_time = make_period_time(start_date, end_date)\n",
    "    inputs = scaler.transform(period_time)\n",
    "    predictions = modelRFR.predict(inputs)\n",
    "    sns.lineplot(x=range(len(predictions)), y=predictions, label='Sales Prediction');\n",
    "    return predictions, predictions.sum()"
   ]
  },
  {
   "cell_type": "code",
   "execution_count": 288,
   "id": "59c29a6a-8068-48c8-8c4d-1f5e16ec9657",
   "metadata": {},
   "outputs": [
    {
     "data": {
      "text/plain": [
       "(array([2.18764174e+08, 3.63098498e+08, 4.75580597e+08, 2.68742746e+08,\n",
       "        2.36287116e+08, 2.28114110e+08, 2.16606257e+08, 2.11092597e+08,\n",
       "        1.80381084e+08, 1.69867254e+08, 2.07681757e+08, 2.44129572e+08,\n",
       "        1.83512302e+08, 1.52626556e+08, 1.45454956e+08, 1.46004922e+08,\n",
       "        1.47857971e+08, 1.60384540e+08, 2.26979676e+08, 2.14762461e+08,\n",
       "        1.67063748e+08, 1.26895610e+08, 1.23348063e+08, 1.49673162e+08,\n",
       "        1.93621675e+08, 1.94120470e+08, 1.38151333e+08, 1.22093253e+08,\n",
       "        1.14538288e+08, 1.32575950e+08, 2.13224818e+08]),\n",
       " 6073235516.0)"
      ]
     },
     "execution_count": 288,
     "metadata": {},
     "output_type": "execute_result"
    },
    {
     "data": {
      "image/png": "[encoded data removed]",
      "text/plain": [
       "<Figure size 640x480 with 1 Axes>"
      ]
     },
     "metadata": {},
     "output_type": "display_data"
    }
   ],
   "source": [
    "# Example \n",
    "# Example usage:\n",
    "start_date = [1402, 7, 1]\n",
    "end_date = [1402, 7, 31]\n",
    "\n",
    "predict_period_time(start_date, end_date)"
   ]
  },
  {
   "cell_type": "code",
   "execution_count": null,
   "id": "fcdf7589-b054-4e5c-b6ad-706fd8c05ae5",
   "metadata": {},
   "outputs": [],
   "source": []
  }
 ],
 "metadata": {
  "kernelspec": {
   "display_name": "Python 3 (ipykernel)",
   "language": "python",
   "name": "python3"
  },
  "language_info": {
   "codemirror_mode": {
    "name": "ipython",
    "version": 3
   },
   "file_extension": ".py",
   "mimetype": "text/x-python",
   "name": "python",
   "nbconvert_exporter": "python",
   "pygments_lexer": "ipython3",
   "version": "3.9.13"
  }
 },
 "nbformat": 4,
 "nbformat_minor": 5
}
